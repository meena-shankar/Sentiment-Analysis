{
 "cells": [
  {
   "cell_type": "code",
   "execution_count": 2,
   "metadata": {},
   "outputs": [],
   "source": [
    "import numpy as np\n",
    "import matplotlib.pyplot as plt\n",
    "import pandas as pd"
   ]
  },
  {
   "cell_type": "code",
   "execution_count": 6,
   "metadata": {},
   "outputs": [
    {
     "name": "stdout",
     "output_type": "stream",
     "text": [
      "1000\n"
     ]
    }
   ],
   "source": [
    "messages = [line.rstrip() for line in open('C:\\\\Users\\\\tomee\\\\Desktop\\\\Machine Learning\\\\amazon dataset SA\\\\amazon_cells_labelled.txt')]\n",
    "print(len(messages))"
   ]
  },
  {
   "cell_type": "code",
   "execution_count": 7,
   "metadata": {},
   "outputs": [
    {
     "name": "stdout",
     "output_type": "stream",
     "text": [
      "0 So there is no way for me to plug it in here in the US unless I go by a converter.\t0\n",
      "\n",
      "\n",
      "1 Good case, Excellent value.\t1\n",
      "\n",
      "\n",
      "2 Great for the jawbone.\t1\n",
      "\n",
      "\n",
      "3 Tied to charger for conversations lasting more than 45 minutes.MAJOR PROBLEMS!!\t0\n",
      "\n",
      "\n",
      "4 The mic is great.\t1\n",
      "\n",
      "\n",
      "5 I have to jiggle the plug to get it to line up right to get decent volume.\t0\n",
      "\n",
      "\n",
      "6 If you have several dozen or several hundred contacts, then imagine the fun of sending each of them one by one.\t0\n",
      "\n",
      "\n",
      "7 If you are Razr owner...you must have this!\t1\n",
      "\n",
      "\n",
      "8 Needless to say, I wasted my money.\t0\n",
      "\n",
      "\n",
      "9 What a waste of money and time!.\t0\n",
      "\n",
      "\n"
     ]
    }
   ],
   "source": [
    "for message_no, message in enumerate(messages[:10]):\n",
    "    print(message_no, message)\n",
    "    print('\\n')"
   ]
  },
  {
   "cell_type": "code",
   "execution_count": 8,
   "metadata": {},
   "outputs": [],
   "source": [
    "import pandas as pd"
   ]
  },
  {
   "cell_type": "code",
   "execution_count": 10,
   "metadata": {},
   "outputs": [
    {
     "data": {
      "text/html": [
       "<div>\n",
       "<style scoped>\n",
       "    .dataframe tbody tr th:only-of-type {\n",
       "        vertical-align: middle;\n",
       "    }\n",
       "\n",
       "    .dataframe tbody tr th {\n",
       "        vertical-align: top;\n",
       "    }\n",
       "\n",
       "    .dataframe thead th {\n",
       "        text-align: right;\n",
       "    }\n",
       "</style>\n",
       "<table border=\"1\" class=\"dataframe\">\n",
       "  <thead>\n",
       "    <tr style=\"text-align: right;\">\n",
       "      <th></th>\n",
       "      <th>message</th>\n",
       "      <th>label</th>\n",
       "    </tr>\n",
       "  </thead>\n",
       "  <tbody>\n",
       "    <tr>\n",
       "      <th>0</th>\n",
       "      <td>So there is no way for me to plug it in here i...</td>\n",
       "      <td>0</td>\n",
       "    </tr>\n",
       "    <tr>\n",
       "      <th>1</th>\n",
       "      <td>Good case, Excellent value.</td>\n",
       "      <td>1</td>\n",
       "    </tr>\n",
       "    <tr>\n",
       "      <th>2</th>\n",
       "      <td>Great for the jawbone.</td>\n",
       "      <td>1</td>\n",
       "    </tr>\n",
       "    <tr>\n",
       "      <th>3</th>\n",
       "      <td>Tied to charger for conversations lasting more...</td>\n",
       "      <td>0</td>\n",
       "    </tr>\n",
       "    <tr>\n",
       "      <th>4</th>\n",
       "      <td>The mic is great.</td>\n",
       "      <td>1</td>\n",
       "    </tr>\n",
       "  </tbody>\n",
       "</table>\n",
       "</div>"
      ],
      "text/plain": [
       "                                             message  label\n",
       "0  So there is no way for me to plug it in here i...      0\n",
       "1                        Good case, Excellent value.      1\n",
       "2                             Great for the jawbone.      1\n",
       "3  Tied to charger for conversations lasting more...      0\n",
       "4                                  The mic is great.      1"
      ]
     },
     "execution_count": 10,
     "metadata": {},
     "output_type": "execute_result"
    }
   ],
   "source": [
    "messages = pd.read_csv('C:\\\\Users\\\\tomee\\\\Desktop\\\\Machine Learning\\\\amazon dataset SA\\\\amazon_cells_labelled.txt', sep='\\t',\n",
    "                           names=[\"message\", \"label\"])\n",
    "messages.head()"
   ]
  },
  {
   "cell_type": "code",
   "execution_count": 11,
   "metadata": {},
   "outputs": [],
   "source": [
    "#Cleaning the text\n"
   ]
  },
  {
   "cell_type": "code",
   "execution_count": 12,
   "metadata": {},
   "outputs": [
    {
     "name": "stderr",
     "output_type": "stream",
     "text": [
      "[nltk_data] Downloading package stopwords to\n",
      "[nltk_data]     C:\\Users\\tomee\\AppData\\Roaming\\nltk_data...\n",
      "[nltk_data]   Package stopwords is already up-to-date!\n"
     ]
    }
   ],
   "source": [
    "import re\n",
    "import nltk\n",
    "nltk.download('stopwords')\n",
    "from nltk.corpus import stopwords\n",
    "from nltk.stem.porter import PorterStemmer\n",
    "corpus = []\n",
    "for i in range(0, 1000):\n",
    "  review = re.sub('[^a-zA-Z]', ' ', messages['message'][i])\n",
    "  review = review.lower()\n",
    "  review = review.split()\n",
    "  ps = PorterStemmer()\n",
    "  all_stopwords = stopwords.words('english')\n",
    "  all_stopwords.remove('not')\n",
    "  review = [ps.stem(word) for word in review if not word in set(all_stopwords)]\n",
    "  review = ' '.join(review)\n",
    "  corpus.append(review)"
   ]
  },
  {
   "cell_type": "code",
   "execution_count": 13,
   "metadata": {},
   "outputs": [
    {
     "name": "stdout",
     "output_type": "stream",
     "text": [
      "['way plug us unless go convert', 'good case excel valu', 'great jawbon', 'tie charger convers last minut major problem', 'mic great', 'jiggl plug get line right get decent volum', 'sever dozen sever hundr contact imagin fun send one one', 'razr owner must', 'needless say wast money', 'wast money time', 'sound qualiti great', 'impress go origin batteri extend batteri', 'two seper mere ft start notic excess static garbl sound headset', 'good qualiti though', 'design odd ear clip not comfort', 'highli recommend one blue tooth phone', 'advis everyon not fool', 'far good', 'work great', 'click place way make wonder long mechan would last', 'went motorola websit follow direct could not get pair', 'bought use kindl fire absolut love', 'commerci mislead', 'yet run new batteri two bar three day without charg', 'bought mother problem batteri', 'great pocket pc phone combin', 'own phone month say best mobil phone', 'think instruct provid help', 'peopl couldnt hear talk pull earphon talk phone', 'hold charg', 'simpl littl phone use breakag unaccept', 'product ideal peopl like whose ear sensit', 'unus move car freeway speed', 'two year left contract hate phone', 'car charger well ac charger includ make sure never run juic highi recommend', 'need least min get phone book time first turn phone batteri life short', 'kept well', 'poor talk time perform', 'case great work fine', 'worthless product', 'great camera that mp pic nice clear great pictur qualiti', 'not impress product', 'nice headset price right', 'hear garbag audio', 'excel bluetooth headset', 'featur want', 'right mind gonna buy batteri', 'argu verizon regard drop call return phone two day', 'case seem well made', 'disappoint batteri', 'not loud enough turn like', 'good protect not make phone bulki', 'usabl keyboard actual turn pda real world use machin instead neat gadget', 'phone pretti sturdi never larg problem', 'love thing', 'everyth fine reason price e', 'disappoint', 'even drop phone stream submerg second still work great', 'happi complaint one regard sound qualiti end', 'button bad', 'essenti forget microsoft tech support', 'realli recommend facepl sinc look nice eleg cool', 'headphon great find think perhap best purchas made last sever year serious', 'buy differ phone not', 'hold phone particular angl parti hear clearli', 'one big drawback mp player button phone front cover let paus skip song lock second', 'week later activ suddenli die', 'feel comfort headset wear glass get way sometim', 'great ipod', 'devic great sever situat', 'mic work', 'even bmw seri fairli quiet troubl hear person say', 'great choic', 'nice dock station home work', 'beauti phone', 'love product', 'not buy wrongli advertis', 'great littl item', 'love phone handi lot featur', 'purchas within day longer work', 'wear everyday hold well', 'not good bargain', 'well packag arriv time work intend', 'batteri run quickli', 'item work great broke month use', 'headset easi use everyon love', 'phone work great', 'construct headset poor', 'product excel work better verizon one boy cheaper', 'phone load super', 'product cost much one expect work far better greater eas thing', 'made sturdi', 'work great', 'ear bud play music one ear', 'dont wast money', 'order', 'plan use car forget', 'found product waaay big', 'best found far tri bluetooth one best qualiti listen well eas use', 'disappoint decis', 'integr seamlessli motorola razr phone', 'buyer bewar could flush money right toilet', 'definit bargain', 'price good free ship good purchas', 'receiv supposedli new motorola appar not match phone charger', 'pro good camera nice pictur also cool style like black white', 'huge design flaw unless not use correctli think case', 'love headset jabra bluetooth headset great recept good ear piec comfort fit', 'camera although rate impress megapixel render imag fall well expect rel high resolut', 'purcash car charger not work', 'sound qualiti end excel use headset call wife ask wife use headset call', 'phone slim light display beauti', 'littl geeki think that sex toast rock ooz sex right batteri embed sleek stylish leather case', 'great product fast ship', 'absolut great', 'keyboard nice compromis full qwerti basic cell phone number keypad', 'got phone around end may complet unhappi', 'comfort ear', 'winner us', 'setup simpler', 'tri sever differ earpiec cell phone jabra one first one found fit ear comfort', 'could not get strong enough signal', 'iam pleas purchas', 'bad qualiti', 'get job done', 'great audio', 'basic servic bad', 'not work cell phone plug set charger', 'bluetooth week realli like', 'bt headset disapoin', 'small even realiz get use', 'accompani softwar almost brilliant', 'headset work great packag nice avoid damag', 'definitli recommend', 'buyer care', 'major logitech earbud headset fail', 'good stuff price', 'headset work peachi keen', 'hous get drop coverag upstair coverag basement', 'voic recognit tremend', 'wast', 'sever differ minut call experienc drop area bar', 'not happi item', 'disappoint', 'phone take forev charg like hour liter', 'got phone reccomend rel glad', 'wast time', 'recept poor', 'item state includ descript not includ', 'month screen went black sudden', 'hope', 'audio qualiti poor poor', 'absolut problem headset link blackberri curv', 'know sound funni seem like sketchi technolog work well well one work great', 'bought wire headphon sound better', 'phone fast send kind messag web brows significantli faster previou phone use', 'nice qualiti build unlik cheap', 'item fantast work perfectli', 'love color', 'w superb', 'whine internet goe use thing less like', 'great charger', 'essenti commun tool not commun', 'work like charm work one got phone', 'still maintain monkey make headphon obvious share enough dna copi design human', 'great valu', 'work bougth l c not work', 'look sharp screen nice clear great graphic', 'last long', 'one thing hate mode set button side', 'excel servic', 'thank wast money', 'audio qualiti poor', 'igo charger tip realli great', 'file browser offer option one need handsfre great', 'superb phone great network', 'connect wife bluetooth motorola hs phone work like charm whether phone pocket case', 'put latest os v g like slow crawl lock everi', 'recogn phone storag devic', 'like loud buzz overrid convers phone', 'buy product', 'bluetoooth headset time still not comfort way fit ear', 'sound qualiti good function awesom', 'phone thorn side realli abhor', 'recent problem could not stay connect minut disconnect', 'incred', 'design flaw', 'great phone', 'wast buck', 'check voic mail night keypad backlight turn second first messag lost', 'replac die week', 'ring tone overal good phone buy', 'late extrem nice help phone', 'problem wit hit drop signal', 'not impress', 'light weight hardli notic', 'love thin', 'bad choic', 'pleather case fit', 'useless phone simpli deaf', 'color even prettier thought would graphic incred sharp', 'think good invest', 'make strang tick nois end call', 'best electron avail fm transmitt', 'batteri last hour', 'great headset impress h', 'mega pixel camera part phone reason good', 'nearli year work great', 'good transmit audio', 'send back', 'not bother contact compani dollar product learn lesson not bought form onlin anyway', 'hate earbug avoid phone mean', 'great price also', 'rang decent abl roam around hous phone live room recept sound qualiti issu', 'fast servic', 'would highli recommend', 'would recommend', 'also like button felt like would crack use', 'worst phone ever', 'still infatu phone', 'freez frequent', 'kind embarrass use look mostli embarrass child like compani', 'simpl lightweight great fit', 'expect better consum experi motorola', 'horribl tick sound background call never experienc', 'certainli comfort function decent', 'usual like headband one lightweight mess hair', 'bit disappoint', 'phone year tell not great', 'order soni ericsson w think work that first use', 'batteri complet useless', 'big wast time', 'wast one', 'great sound servic', 'realli pleas product far', 'one favorit purchas ever', 'best bluetooth market', 'authent leather nice shine comfort recommend case', 'excit get headset thought realli cute', 'not make mistak', 'big disappoint calendar sync', 'phone unus not new', 'worst custom servic ever', 'addit ear gel provid instruct whatsoev', 'defeat purpos bluetooth headset', 'worth everi penni', 'excel wallet type phone case', 'nice headphon price work great', 'internet excrutiatingli slow', 'comfort wear well probabl import aspect use case', 'fit like glove strong secur durabl', 'gosh best phone ever', 'attract appear good qualiti', 'love featur form factor', 'product strong rubber petroleum smell unbear caus return', 'poor qualiti servic', 'cabl look thin flimsi scari', 'great earpiec', 'excel hand free tool', 'great use home stereo', 'good product incred valu', 'month work flawlessli far', 'work great', 'absolutel junk', 'one work either', 'batteri life real good', 'return hour later', 'great item', 'wast money', 'love headset', 'not drain player may also potenti fri', 'work perfectli', 'unreli give', 'gave star sound qualiti', 'avoid one', 'revers plug work great', 'wast littl money earpiec', 'good phone', 'best rotat featur help', 'comfort whole famili', 'good product good seller', 'love bluetooth', 'first wear well', 'impress headset plantron', 'got small ador', 'great phone', 'recommend buy product', 'piec junk', 'poorli contstruct hing', 'item great instal let charg overnit work good everi sinc problem', 'great phone', 'buy', 'excel phone', 'not purchas phone', 'voic recognit thru handset excel', 'hand best phone ever', 'work great cat attack phone scratch protect strip instead destroy screen', 'one work price right', 'custom servic terribl', 'batteri life still not long enough motorola razor v', 'send back', 'know made wise decis', 'someon shouldv invent sooner', 'good price', 'everyth work first tri devic certainli engin clever way construct feel good', 'receiv quickli work great', 'work great', 'mani peopl complain found headset microphon weak', 'year old nokia tracfon hold charg lot better', 'not care consum one bit', 'good batteri got realli fast', 'instruct manual lack', 'also slim enough fit alarm clock dock station without remov case', 'phone hold charg like new', 'batteri unreli well servic use antena', 'uncomfort sound qualiti quit poor compar phone razr previou wire headset plug lg', 'gotten lot compliment', 'definit must state not allow cell phone usag drive', 'want money back', 'love devic', 'also happi price', 'order product first unhappi immedi', 'ngage still lack earbud', 'abl voic dial car problem', 'bar cell phone home cant not hear anyth', 'good item low price', 'howev riington not best neither game', 'plug not work well', 'amazon suck', 'rip charg ship', 'comfort', 'batteri work well replac origin came phone year ago', 'recept excel', 'fit comfort either ear sound clear loud charg last coupl day', 'clear qualiti sound mess sound ipod sinc sound button headset', 'long last batteri recharg frequentyli flip phone', 'obvious problem adhes', 'disappoint', 'inexpens piec would still expect better qualiti', 'practic useless not add kind boost recept bought', 'excel sound qualiti', 'not happi', 'piec junk broke phone day', 'new batteri work great phone', 'worst custom servic', 'drop phone time say even concret phone still great knock wood', 'recept terribl full static', 'good audio qualiti', 'littl devic transform organiz capabl made life whole lot easier', 'sit vehicl cradl belt headset lost signal', 'jerk phone', 'work like charm work advertis', 'comfort nice rang good batteri life', 'network coverag lo angel horribl', 'excel starter wireless headset', 'loudspeak option great bumper light appeal', 'thing think could improv sound leak headset', 'first recept suck never bar ever', 'phone get extrem hot', 'microphon also work well accord peopl call applifi everyth', 'nice design qualiti', 'also phone drop case not go save special drop face', 'light easi use clear recept transmiss', 'bad fit way big', 'definit not good', 'awesom devic', 'wast money', 'order motorola data cabl got well finish work product', 'love phone', 'look headset long time got happier', 'drivng along headset start ring reason', 'display excel camera good year', 'batteri life also great', 'worst phone ever month', 'not good item work start problem auto revers tape player', 'embarass also ear hurt tri push ear plug ear', 'protect phone side', 'averag phone bad batteri life oper weak network', 'clear skype call long batteri life long rang', 'soyo technolog suck', 'great hand free devic', 'even take self portrait outsid exterior display cool', 'problem other mention', 'tri mani mani handsfre gadget one final work well', 'magic help', 'worst piec crap ever along verizon custom servic', 'poor sound qualiti', 'best phone market', 'work well', 'compani ship product promptli work well', 'exactli want', 'pictur resolut far compar price phone offer today', 'great deal', 'excel product satisfi purchas', 'highli recommend encourag peopl give tri', 'better expect', 'use earpiec left right thing not stay ear', 'great product price', 'sound good reason price effect simpl', 'still wait sure item would work well ever reciev', 'disappoint', 'prompt servic', 'excel product price', 'pleas headset', 'wast money time', 'especi love long batteri life', 'stupid keep buy new charger car charger cradl headphon car kit everi time new phone come', 'work great', 'plantron bluetooth excel buy', 'came verizon cingulair nicer cell phone first thing notic realli bad servic', 'look new earpiec', 'highli recommend devic everyon', 'jawbon era awesom', 'receiv white color batteri goe dead coupl hoursth origin use last week still last longer thereplac', 'year batteri went complet dead headset', 'use sever phone two year one best', 'awesom new look fall', 'first phone cheapli made', 'att not clear sound distort yell talk', 'plastic break realli easi clip', 'price good', 'make mistak', 'oh forgot also mention weird color effect phone', 'use iriv spinn case fit fine', 'also area unit broke not fond magnet strap', 'overal psych phone appoint contact get great recept', 'everi thing phone work perfectli like', 'anoth note phone appear realli look rather bland especi black model', 'realli easi', 'sanyo surviv dozen drop blacktop without ill effect', 'fantast earphon', 'find cell phone right away enter car', 'low qualiti', 'highli recommend modest price cellular phone', 'get better recept clariti phone', 'warn stay away', 'wish could return unit get back money', 'awsom devic work great', 'use talk hour batteri would liter drain die', 'find bad unit come one earpad would not recommend anyon', 'displeas', 'might gotten defect would not risk buy built qualiti alon', 'made case small difficult instal', 'restor phone like new perform', 'would recommend purchas jabra jx seri work flawlessli moto q go figur', 'search internet found one best valu', 'not fit', 'happi product', 'screen size big key pad lit well enough camera qualiti excel camera phone', 'realli noth bad say headset', 'glad found product amazon hard find high price', 'portabl work', 'colleagu get great recept littl expens perform great', 'even fulli charg went bed turn blue tooth wi fi notic left morn', 'also problem phone read memori card alway turn', 'not good wear hat sunglass', 'time shipment qualiti product', 'nice solid keyboard', 'well made fit surefir gx perfectli', 'horribl phone', 'bt batteri junk', 'would recommend other', 'cant get softwar work comput', 'disappoint', 'poor voic clariti', 'batteri work great', 'buyer remors one', 'disappoint accessoryon', 'find inexcus probabl return phone perhap chang carrier', 'look great strong', 'tmobil servic year pretti happi', 'updat procedur difficult cumbersom', 'disappoint hate anyth goe ear', 'great softwar motorola', 'deliveri time', 'easi use', 'uncomfort ear use lg vx env', 'volum switch rocket unit destin unknown', 'hold charg long time reason comfort long wear condit qualiti sound tremend', 'like return', 'keyboard realli worthwhil use sturdi enough expect problem', 'verizon bill howev difficult understand even though price plan simpl', 'charg overnight batteri work great', 'regret', 'love phone', 'disappoint', 'not user friendli', 'unfortun abil actual know receiv call rather import featur phone piti respect', 'exchang phone even problem', 'result phone either stuck max volum mute', 'pda rock', 'super charg use small hybrid palmtop camera cellphon excel role', 'would definit recommend jabra bt v look comfort clariti great price', 'verizon year ago realli like servic', 'pretti piec junk', 'plug wrong size', 'work describ', 'save money item month', 'bad purchas', 'well im satisfi', 'bose nois cancel amaz import nyc commut', 'batteri excel bargain', 'defect crap', 'would given star abl', 'wear glass fit fine', 'sound qualiti devic unaccept unless realli quiet area almost hear noth', 'would not recommend item anyon', 'holster arriv not match photo ad', 'great problem', 'earlier review note plug charger noth happen', 'frog phone charm ador eye catch', 'never know push hard enough right number time function want not', 'sound clear peopl talk amaz qualiti', 'got aluminum case new palm vx work realli well protect handheld perfectli far', 'good product well made', 'mobil phone tool must', 'impress job motorola sturdi phone', 'receiv order well within ship timefram everyth good work order overal excit sourc', 'phone sturdi waterproof', 'not impress would not recommend item anyon', 'complaint standard sound volum littl low even turn', 'thank amazon thing need good price', 'end slide edg pant back pocket instead', 'go store bought new nokia phone work great', 'work great', 'realli ugli', 'horribl switch time', 'nois shield incredi', 'real improv', 'razr batteri good buy', 'keep good work amazon', 'refus refund replac', 'unfortun easi accident activ gentl touch button accident touch phone face listen', 'basic threw money window noth', 'great case price', 'took one drop inch kitchen counter crack not impress not laugh', 'bluetooth rang good day ago left phone trunk got call carri convers without hitch', 'small sleek impress look practic setup ampl storag place', 'eargel channel sound directli ear seem increas sound volum clariti', 'none new one ever quit work properli', 'glad purchas', 'miss numer call reason', 'perhap phone defect peopl cannot hear use', 'buy product', 'suck stuff not work phone', 'shift bubbl peel not even scratch noth happier new one droid', 'worst softwar ever use could give zero star would', 'tri make call exercis frustrat', 'case flimsi piec plastic front side protect whatsoev', 'jabra earset happi sound qualiti especi outgo better', 'love camera realli pretti good qualiti', 'thank great servic', 'total packag', 'seller understand patient would definit buy', 'give wirefli star contact cingular inform practic', 'aggrav', 'great product price', 'purchas famili friend enjoy clariti eas use', 'virgin wireless rock cheap littl phone', 'none work buy', 'muddi low qualiti sound case around wire insert poorli super glu slid', 'pleas dont wast money', 'quit satisfi purchas', 'look good qualiti motorola headset keep look', 'yet plantroninc continu use flaw charger design', 'disapoint result', 'cumbersom design', 'great new packag nice work good problem came less time expect', 'great product', 'piec crap', 'experi terribl fourth bluetooth headset much comfort last jabra hate', 'fix problem', 'worst ever', 'happi', 'troubl access internet download rington perform function', 'bare ever hear constantli say', 'batteri life highli unaccept', 'compani joke', 'everyth descript said would', 'due happen everi call forc stop use headset', 'work great car charger especi cannot plug two adapt time', 'verizon tech support walk procedur none work end hard set wipe data', 'voic qualiti signal strength drop call', 'play louder speaker size price low would think qualiti lack howev not', 'better expect', 'feel poorli construct menu difficult navig button recess difficult push', 'batteri hold well', 'also difficult put recommend avoid product', 'use two day alway easi hear', 'got car charger not even week charger broken went plug start smoke', 'sprint terribl custom servic', 'link phone without effort', 'cool', 'easi use', 'better new', 'posses get junk idea', 'piec trash', 'pretti good product', 'great phone', 'price amazon excel product would highli recommend', 'research develop divis obvious know', 'real killer volum cours break', 'phone work fine', 'happi product', 'poor construct', 'infuri', 'overal would recommend phone new walkman', 'sprint charg servic', 'cheap feel look cheap', 'fit ear well comfort', 'work europ asia', 'clip belt deffinit make feel like cent come', 'like design look jabra behe ear headset pretti comfort wear hour day without pain ear', 'amaz quick arriv two origin lg cell phone batteri fraction price', 'worst phone samsung crap crappi samsung e worst ever seeen', 'charger work week complet stop charg phone', 'poor product', 'howev need better instruct', 'need two hand oper screen softwar interfac decad old cannot compet new softwar design', 'work well pair treo w skype headset pc use usb bluetooth transceiv', 'steer clear product go genuin palm replacementr pen come three pack', 'not buy not buyit suck', 'great product sure beat use finger', 'plu serious not believ worth steep price point', 'case tri normal fall apart month one seem long haul', 'dissapoint perform', 'make mistak pleas buy phone', 'phone might well worst ever brand', 'case less extra origin put later discard scratch ear', 'recommend igo anyon differ brand cell phone mp player famili', 'bother go store', 'post detail comment grey black phone fire red great color', 'not problem item would order need', 'get pay guess', 'not softwar great job could also make rington form exist cd without internet connect', 'im surpris good qualiti car charger not much review', 'fabul', 'howev bt headset current not good real time game like first person shooter sinc audio delay mess', 'use bitpim free program find internet transfer data phone price cabl excel', 'disappoint accessori good manufactur', 'perform aw muffl tinni incom sound sever echo end call', 'wind resist', 'obvious terribl custom servic get pay', 'not last forev not overli expens replac easi oper sound much better other tri', 'contact compani told although unit still warranti produc receipt luck', 'linksi way exchang bad phone refurb unit someth', 'phone sturdi nokia bar phone', 'great phone', 'place treo case not not snug lot extra room side', 'pleas', 'batteri terribl', 'found product easi set use', 'earpiec larg heavi keep fall ear', 'utter crap sound qualiti terribl', 'charger arriv within promis timefram not work', 'ear loop need tini sound great', 'final three four time spring latch broke could not use longer visor', 'handsfre part work fine car tri download address book treo reboot overal still rate devic high', 'talk useless custom servic', 'felt light tinni', 'not fit palm tungsten e broke first time tri plug', 'happi purchas good qualiti low price', 'love look feel samsung flipphon', 'well design sharp blue nice color', 'everyth', 'could not recommend', 'nice sound', 'look good pictur case huge disappoint', 'much less jawbon go replac', 'setup went smoothli', 'extrem slow take forev anyth', 'must studi anyon interest worst sin industri design', 'first thing happen track', 'well made easi access phone handi detach belt clip', 'continu pair period sinc somehow kept drop', 'upload rington third parti', 'bluetooth not work phone lock screen flash make call randomli pocket lock', 'truli aw', 'work fine motorola cellphon lot better worn batteri', 'volum ringer real good choic loud', 'none tone accept', 'camera color balanc aw', 'product clearli not readi prime time care cool look tell call come worthless', 'love rington upbeat', 'chines forgeri abound', 'easi pair samsung cell', 'instruct explain microphon jack could use', 'would advis not purchas item never work well', 'bad pay month servic', 'work well', 'nokia ca usb cabl not work phone', 'clear crisp sound', 'use smallest earpiec provid stay pretti well', 'biggest complaint batteri drain superfast', 'design might ergonom theori could not stand ear', 'not buy want use holster', 'phone also take great pictur even video clip', 'make look cool', 'ear occupi background not distract', 'comfort fit need headset comfort least hour time not entir day', 'also phone seem accept anyth except cbr mp prefer rip window media player', 'beat price', 'come strong light use light camera shot even flash so signal serious', 'lightweight work well', 'bewar', 'love cabl allow connect mini usb devic pc', 'anyon near hear part convers', 'cool case open allow screen get scratch', 'bought phone replac startac regret sinc', 'appear actual outperform origin batteri china came v', 'store anyth phone number sim', 'last less minut actual tri use phone wife phone problem', 'poor qualiti', 'jabra ear gel r best', 'not worth', 'phone crash complet get replac', 'quit work use month purchas anoth one best headset ever own', 'unfortun not recharg iphon despit connect multipl power sourc imac extern batteri wall outlet etc', 'great phone', 'simpli want small flip phone look elsewher extra bell whistl mediocr', 'good valu work fine power via usb car wall outlet', 'phone slide around car grip prevent phone slip hand', 'simpli best bluetooth headset sound qualiti', 'think plan one sure last moto phone', 'span hour two peopl exclaim whoa new phone tv', 'alway use cord headset freedom wireless help', 'case pass one year mark show sign wear function', 'leather nice soft fit tight cut face good shape', 'everyth need ask', 'receiv use product day broke', 'product great make work lot easier go copier wait hold someth', 'none three size sent headset would stay ear', 'mobil best custom servic anywher', 'arriv quickli much less expens other sold', 'tri unit fail within month pro', 'provid good protect look classi', 'krussel alway good', 'tracfonewebsit user friendli make easi toactiv etc', 'design good', 'great recept time', 'would highli recommend product', 'use unit sunglass not good texa', 'dit not work time nokia', 'bought mainli charger broke soon purchas', 'like loud buzz overrid convers phone', 'fantast buy get whatev next phone', 'stay away store care', 'blueant supertooth hand free phone speaker awesom', 'not fit', 'item arriv quickli work great metro pc samsung sch r slider phone soni premium sound ear plug', 'light plenti batteri capac confort wear somewhat extend period time', 'disappoint', 'blue ant easi use', 'cheap hey work pleasantli supris given low cost item', 'camera phone may use dustpan indoor rather use dispos', 'day later puff smoke came phone use', 'conveni simpl use get job done make car ride much smoother', 'nano state son dissapoint', 'sound qualiti excel well', 'best headset use', 'would not reccommend', 'around year carri highest qualiti anti glare screen protector found date', 'want', 'particular model would not work motorola q smartphon', 'wont work right atleast', 'addit feel amp look phone lightweight cheap plastic', 'warranti problem reoccur bottom line put money somewher els cingular not support', 'realli want plantron right one mani issu good', 'great product', 'crisp clear', 'first charg kept go dead minut', 'cheap plastic creak like old wooden floor', 'get absolut horribl recept apart phone not problem', 'recept gener good', 'excel sound batteri life inconspicu boot', 'great bluetooth', 'highli recommend case', 'worthwhil', 'great deal', 'phone got year old slowli break despit much care part', 'sorri made purchas', 'bought hope could make bluetooth headset fit better thing made imposs wear', 'treo mobil refus replac forc buy anoth phone without kind upgrad discount', 'horribl', 'think would hold securli belt', 'allow possibl doubl book date time first', 'work week break', 'simpl use like', 'great tool entertain commun data manag oh sure use activesync optim data synchron result', 'use case smell disgust', 'not want', 'case would order anoth', 'great phone', 'bought batteri coupon amazon happi purchas', 'internet access fine rare instanc work', 'perfect ps', 'five star plu plu', 'good qualiti bargain bought bought cheapi big lot sound aw peopl end hear', 'drain', 'tri talk real loud shout telephon get old still told great', 'good work fine', 'price great deal', 'great price', 'wind complet useless', 'ye shini front side love', 'not work', 'first thought grtting good deal plug phone v c razr', 'recept headset excel', 'thumb seller', 'verizon lg phone work well togeth good recept rang exce feet line sight', 'improp descript return', 'work comfort', 'batteri charg life quit long', 'jabra eargel fit ear well', 'batteri life', 'check everywher featur realli disappoint', 'product exactli describ', 'get signal verizon phone', 'job', 'would recommend', 'plan order', 'said phone camera nice mani cool effect play video decent well', 'satisfi cell phone day one', 'keep get better better third one numer palm', 'awkward use unreli', 'ship time also quick', 'not good hope', 'good case', 'work', 'realli good product', 'unfortun not work', 'three broke within two month use', 'dont buy', 'father v batteri die', 'howev ear pad come easili one week lost one', 'call drop phone come screen goe black worst stop ring intermitt', 'horribl horribl protector', 'like nokia either', 'reach bottom row uncomfort send end key not expect', 'bought nokia cell phone week ago nightmar', 'would take long describ bad custom servic experi amazon', 'disappoint thing speakerphon', 'terribl car not accept cassett', 'product useless sinc not enough charg current charg cellphon plan use', 'not say', 'stay away q', 'use dirti', 'unreli servic mobil', 'not good enough price', 'bought two neither charg', 'look nice', 'excel tool especi pair phone auto answer', 'read review problem', 'product cover import light sensor ear outlet', 'comfort hand', 'not work', 'poor reliabl', 'work', 'take pictur batteri drop bar start beep let know die', 'terribl product wast money', 'last time buy', 'wast money', 'far work like charm', 'week far good', 'case best part download pictur laptop use ir even send pictur laptop phone', 'would recommend item', 'choic headset year great sound good volum good nois cancel', 'nice case feel good hand', 'item receiv counterfeit', 'realli good far probabl best bt headset ever', 'work fine', 'receiv headset good time happi', 'pleas see could replac well travl swivel holster blackberri flip', 'sister one also love', 'good qualiti', 'far worst purchas made amazon', 'excel dual purpos headset', 'excel', 'not work listen music cingular', 'seem complet secur hold belt keep iphon insid', 'bottowm line anoth worthless cheap gimmick sprint', 'troubl volum', 'good thing fit comfort small ear', 'warn not buy', 'pair iphon could not happier far', 'open batteri connect broken devic turn', 'want clip go top ear caus discomfort', 'best headset ever', 'trust websit expect help support', 'loud glad say plantron maintain flawless connect cell static normal use', 'speaker low qualiti make ring tone sound cheap', 'fit comfort came three size earbud tip', 'excel product price', 'bad recept', 'product high qualiti chines crap', 'quit comfort ear', 'great phone', 'buy product fail', 'everyth product wrong first', 'pair two devic easi bare took coupl minut start make call voic dial featur', 'utterli confus first caus lose coupl import contact', 'terribl phone holder', 'cutout button place perfectli', 'love abl use one headset land line cell', 'problem ear loop made weak materi break easili', 'not nearli good look amazon pictur make look', 'despit flaw case except qualiti well worth addit cost own offici oem product', 'stupid', 'hear drive car usual even put loudest set', 'seller ship quickli much cheaper competitor', 'good show samsung', 'bought save alot money', 'alway cut make beep beep beep sound say signal fail', 'figur', 'phone sound ok not great ok wife phone almost total unintellig understand word said', 'take batteri phone put back togeth restart', 'manag bend leaf spring back place metal enough stress break next drop', 'leopard print wonder wild', 'work', 'saggi floppi piec junk', 'much better hard plastic case', 'also new problem', 'happi far', 'cool phone', 'work good', 'motorola final got voic qualiti bluetooth headset right', 'loos connect phone even within coupl feet two', 'great would realli recommend', 'make easier keep bluetooth not wear', 'said pretti useless', 'never got', 'pair headphon worst ever sound wise', 'drain weak snap', 'not charg cingular att phone', 'get extra minut carri call not get cut', 'howev year fliptop start get loos wobbl eventu screen went black receiv place call', 'kept catch cabl seat pull phone turn', 'headset fulfil requir happi purchas', 'logitech bluetooth headset', 'like fact rest lightli ear rather insid', 'lot websit rate good phone', 'tri cabl comput ipod work fine', 'mic joke volum quit low', 'return', 'not maintain connect comput lap', 'easi turn car volum control quit access', 'mine year christma bought rest famili', 'otherwis easi instal use clear sound', 'nice leather', 'purchas differ case', 'joy use', 'much disappoint compani', 'satisif', 'charg', 'phone get bought say wow', 'button small', 'read spec alon make say wow', 'love great armband', 'realli like product motorola allot clearer ear piec mic', 'howev keypad tinni sometim reach wrong button', 'exchang soni ericson z pretti happi decis', 'impress price case', 'also make easier hold', 'use product motor control center lot high voltag hum equip work great', 'pretti easi', 'cannot make call certain place', 'howev girl complain time phone wake like normal phone', 'beauti style though', 'compani charg restock fee still not given refund back', 'tri return refund', 'plug find not darn thing work', 'excel product', 'earbud piec break easili', 'lousi product', 'phone tri hard everyth fail abil phone', 'best charger seen market yet', 'sweetest phone', 'oh charger seem work fine', 'fit secur ear hook not even need use sound better direct ear canal', 'not enough volum', 'echo problem unsatisfactori', 'could take video time qualiti poor', 'wast money', 'go first neg review product', 'adapt not provid enough charg current', 'much hype phone assum best mistak', 'also cannot take pictur case lens cover', 'phone fall easili', 'work peopl not hear talk', 'text messag featur realli tricki use', 'realli disappoint charger work', 'pain ear', 'last one day blew', 'disappoint', 'kind flop around', 'screen get smudg easili touch ear face', 'piec junk lose call phone', 'item not match pictur', 'thing disappoint infra red port irda', 'not answer call unit never work']\n"
     ]
    }
   ],
   "source": [
    "print(corpus)"
   ]
  },
  {
   "cell_type": "code",
   "execution_count": 14,
   "metadata": {},
   "outputs": [],
   "source": [
    "#vectorization"
   ]
  },
  {
   "cell_type": "code",
   "execution_count": 15,
   "metadata": {},
   "outputs": [],
   "source": [
    "from sklearn.feature_extraction.text import CountVectorizer\n",
    "cv = CountVectorizer(max_features = 1500)\n",
    "X = cv.fit_transform(corpus).toarray()\n",
    "y = messages.iloc[:, -1].values"
   ]
  },
  {
   "cell_type": "code",
   "execution_count": 16,
   "metadata": {},
   "outputs": [
    {
     "name": "stdout",
     "output_type": "stream",
     "text": [
      "[0 1 1 0 1 0 0 1 0 0 1 1 0 1 0 1 0 1 1 0 0 1 0 1 0 1 1 0 0 0 0 1 0 0 1 0 1\n",
      " 0 1 0 1 0 1 0 1 1 0 0 1 0 0 1 1 1 1 1 0 1 1 0 0 1 1 0 0 0 0 1 1 1 0 0 1 1\n",
      " 1 1 0 1 1 0 1 0 1 0 0 1 1 0 1 1 0 1 1 0 0 1 0 0 1 0 1 0 1 1 0 1 0 1 0 0 1\n",
      " 1 1 1 1 1 0 1 1 1 1 0 1 0 1 1 0 0 1 0 1 1 1 1 0 0 1 1 0 1 0 0 0 0 0 1 0 0\n",
      " 0 0 0 0 1 1 0 1 1 1 1 1 0 1 0 1 0 1 0 1 0 0 1 0 0 1 1 1 1 0 0 0 0 0 1 0 0\n",
      " 1 0 1 0 0 0 1 1 0 0 1 1 0 0 0 1 1 0 1 0 1 1 1 1 0 0 0 1 1 1 1 1 0 0 1 0 0\n",
      " 1 0 0 1 1 0 0 0 0 0 0 1 1 1 1 1 1 0 0 0 0 0 0 1 1 1 0 1 1 1 1 1 0 0 0 1 1\n",
      " 1 1 1 1 0 0 1 0 1 0 1 0 1 0 1 0 1 0 1 1 1 1 1 0 1 1 1 0 0 0 1 1 0 1 0 1 1\n",
      " 1 1 0 0 0 1 1 1 1 1 1 0 0 0 1 0 1 1 0 0 1 1 0 1 1 0 0 1 0 1 0 0 0 0 1 1 1\n",
      " 1 1 0 0 0 0 0 1 0 0 1 0 1 0 1 1 0 0 1 1 0 0 0 0 0 0 1 1 0 1 0 1 1 0 1 1 1\n",
      " 0 1 1 0 0 0 1 0 1 0 1 1 0 1 1 0 0 1 1 1 1 0 1 1 1 1 0 1 1 0 0 1 1 1 0 1 0\n",
      " 1 1 0 0 1 1 0 0 1 1 0 0 0 1 0 0 1 0 1 1 0 1 1 1 1 0 1 1 0 0 1 0 0 0 0 0 1\n",
      " 1 1 0 1 1 0 1 1 1 0 0 0 1 1 1 0 0 1 0 0 0 1 0 0 0 1 1 0 0 1 1 1 0 0 1 0 1\n",
      " 0 1 1 1 0 0 0 0 0 1 1 1 1 0 0 1 0 0 1 1 1 0 0 1 0 0 0 1 0 1 0 1 1 1 1 1 1\n",
      " 1 0 0 1 1 1 1 0 0 1 0 1 1 0 0 0 1 0 1 1 1 0 1 0 0 0 0 1 0 0 0 1 1 1 1 1 0\n",
      " 0 1 1 1 0 0 0 1 0 0 0 0 1 1 0 0 1 0 1 1 0 0 0 1 0 1 0 0 1 1 0 1 0 0 0 0 1\n",
      " 1 1 1 0 0 1 1 1 1 0 1 1 0 0 1 0 0 1 0 1 1 1 0 0 0 0 0 1 0 0 1 0 1 0 0 0 0\n",
      " 1 0 1 1 0 1 1 1 0 1 0 0 1 0 1 0 0 1 1 0 1 0 1 0 0 0 1 0 1 0 0 0 1 1 1 1 0\n",
      " 1 0 1 1 0 0 0 1 0 0 0 0 1 1 0 0 0 1 0 1 0 0 0 1 0 1 1 0 0 0 1 0 1 1 0 1 1\n",
      " 1 0 1 0 1 0 1 0 0 0 1 0 0 1 0 1 0 1 1 1 0 1 1 1 1 1 0 1 0 1 1 0 1 1 1 1 1\n",
      " 1 0 0 0 0 1 0 1 0 1 1 0 1 1 0 0 1 0 1 1 0 1 1 0 0 0 0 0 1 1 0 0 0 1 1 1 1\n",
      " 1 1 0 0 0 0 0 0 0 0 1 1 0 0 1 1 1 0 1 1 1 0 0 1 1 1 0 1 0 0 1 1 1 0 1 1 1\n",
      " 0 0 1 1 0 1 1 1 1 1 0 1 0 1 0 1 0 0 0 0 0 0 0 0 0 0 0 0 0 0 0 0 0 0 0 0 1\n",
      " 1 1 0 1 0 0 1 0 0 0 0 1 1 1 1 1 1 0 1 1 1 1 1 1 0 1 1 0 1 0 0 1 0 1 0 0 1\n",
      " 0 1 0 1 1 0 0 1 1 0 0 1 0 0 1 1 0 0 1 0 1 1 1 1 0 0 0 0 0 1 1 0 1 0 1 1 1\n",
      " 1 0 1 0 0 0 0 0 0 1 0 0 1 1 1 1 1 0 0 0 1 1 1 1 0 1 0 1 0 1 0 1 1 1 0 1 1\n",
      " 1 1 1 0 0 1 0 0 0 1 0 0 0 1 1 1 1 0 0 0 0 0 0 0 0 0 0 0 0 0 0 0 0 0 0 0 0\n",
      " 0]\n"
     ]
    }
   ],
   "source": [
    "print(y)"
   ]
  },
  {
   "cell_type": "code",
   "execution_count": 17,
   "metadata": {},
   "outputs": [],
   "source": [
    "#Splitting the dataset into the Training set and Test set"
   ]
  },
  {
   "cell_type": "code",
   "execution_count": 18,
   "metadata": {},
   "outputs": [],
   "source": [
    "from sklearn.model_selection import train_test_split\n",
    "X_train, X_test, y_train, y_test = train_test_split(X, y, test_size = 0.20, random_state = 0)"
   ]
  },
  {
   "cell_type": "code",
   "execution_count": 19,
   "metadata": {},
   "outputs": [],
   "source": [
    "#Tfidf term frequency inverse document frequency"
   ]
  },
  {
   "cell_type": "code",
   "execution_count": 20,
   "metadata": {},
   "outputs": [],
   "source": [
    "from sklearn.feature_extraction.text import TfidfTransformer\n",
    "\n",
    "tfidf_transformer = TfidfTransformer().fit(X)\n"
   ]
  },
  {
   "cell_type": "code",
   "execution_count": 21,
   "metadata": {},
   "outputs": [
    {
     "name": "stdout",
     "output_type": "stream",
     "text": [
      "(1000, 1358)\n"
     ]
    }
   ],
   "source": [
    "messages_tfidf = tfidf_transformer.transform(X)\n",
    "print(messages_tfidf.shape)"
   ]
  },
  {
   "cell_type": "code",
   "execution_count": 22,
   "metadata": {},
   "outputs": [],
   "source": [
    "#Training a model"
   ]
  },
  {
   "cell_type": "code",
   "execution_count": 23,
   "metadata": {},
   "outputs": [],
   "source": [
    "from sklearn.naive_bayes import MultinomialNB\n",
    "spam_detect_model = MultinomialNB().fit(messages_tfidf, messages['label'])"
   ]
  },
  {
   "cell_type": "markdown",
   "metadata": {},
   "source": [
    "print('predicted:', spam_detect_model.predict(messages_tfidf)[7])\n",
    "print('expected:', messages.label[3])"
   ]
  },
  {
   "cell_type": "code",
   "execution_count": 24,
   "metadata": {},
   "outputs": [
    {
     "name": "stdout",
     "output_type": "stream",
     "text": [
      "predicted: 0\n",
      "expected: 0\n"
     ]
    }
   ],
   "source": [
    "#single prediction\n",
    "print('predicted:', spam_detect_model.predict(messages_tfidf)[9])\n",
    "print('expected:', messages.label[9])"
   ]
  },
  {
   "cell_type": "code",
   "execution_count": 25,
   "metadata": {},
   "outputs": [
    {
     "name": "stdout",
     "output_type": "stream",
     "text": [
      "[[0 0]\n",
      " [0 0]\n",
      " [0 0]\n",
      " [1 1]\n",
      " [0 0]\n",
      " [1 1]\n",
      " [0 0]\n",
      " [0 0]\n",
      " [1 1]\n",
      " [0 0]\n",
      " [1 1]\n",
      " [1 1]\n",
      " [0 0]\n",
      " [0 0]\n",
      " [1 1]\n",
      " [1 1]\n",
      " [1 1]\n",
      " [1 1]\n",
      " [0 0]\n",
      " [1 1]\n",
      " [1 1]\n",
      " [1 0]\n",
      " [1 1]\n",
      " [0 0]\n",
      " [0 0]\n",
      " [1 1]\n",
      " [1 1]\n",
      " [1 1]\n",
      " [0 0]\n",
      " [1 1]\n",
      " [1 1]\n",
      " [0 0]\n",
      " [0 0]\n",
      " [0 0]\n",
      " [1 1]\n",
      " [1 1]\n",
      " [1 1]\n",
      " [0 0]\n",
      " [1 1]\n",
      " [1 1]\n",
      " [0 0]\n",
      " [0 0]\n",
      " [1 1]\n",
      " [0 1]\n",
      " [1 1]\n",
      " [0 0]\n",
      " [1 1]\n",
      " [0 0]\n",
      " [1 1]\n",
      " [0 0]\n",
      " [1 1]\n",
      " [1 1]\n",
      " [1 1]\n",
      " [1 0]\n",
      " [1 1]\n",
      " [0 0]\n",
      " [0 0]\n",
      " [0 0]\n",
      " [0 0]\n",
      " [1 1]\n",
      " [0 0]\n",
      " [0 1]\n",
      " [0 0]\n",
      " [0 0]\n",
      " [0 0]\n",
      " [1 1]\n",
      " [1 0]\n",
      " [0 0]\n",
      " [1 1]\n",
      " [1 0]\n",
      " [1 1]\n",
      " [0 0]\n",
      " [1 1]\n",
      " [1 1]\n",
      " [0 0]\n",
      " [1 1]\n",
      " [1 1]\n",
      " [1 1]\n",
      " [0 0]\n",
      " [0 0]\n",
      " [1 1]\n",
      " [1 1]\n",
      " [0 0]\n",
      " [0 0]\n",
      " [1 1]\n",
      " [0 0]\n",
      " [1 1]\n",
      " [1 1]\n",
      " [0 0]\n",
      " [1 1]\n",
      " [1 1]\n",
      " [0 0]\n",
      " [1 1]\n",
      " [1 1]\n",
      " [1 1]\n",
      " [0 0]\n",
      " [1 1]\n",
      " [1 0]\n",
      " [1 1]\n",
      " [0 0]\n",
      " [0 0]\n",
      " [1 1]\n",
      " [0 0]\n",
      " [1 1]\n",
      " [1 1]\n",
      " [1 1]\n",
      " [1 1]\n",
      " [0 0]\n",
      " [1 1]\n",
      " [1 1]\n",
      " [0 0]\n",
      " [0 1]\n",
      " [0 0]\n",
      " [1 1]\n",
      " [0 0]\n",
      " [0 0]\n",
      " [1 1]\n",
      " [0 0]\n",
      " [0 0]\n",
      " [1 1]\n",
      " [0 0]\n",
      " [0 0]\n",
      " [1 1]\n",
      " [1 1]\n",
      " [0 0]\n",
      " [0 0]\n",
      " [1 1]\n",
      " [1 1]\n",
      " [1 1]\n",
      " [0 0]\n",
      " [0 0]\n",
      " [0 0]\n",
      " [0 0]\n",
      " [1 1]\n",
      " [1 1]\n",
      " [1 1]\n",
      " [1 1]\n",
      " [0 0]\n",
      " [1 1]\n",
      " [1 1]\n",
      " [0 0]\n",
      " [0 0]\n",
      " [0 0]\n",
      " [1 1]\n",
      " [1 1]\n",
      " [0 0]\n",
      " [1 1]\n",
      " [1 1]\n",
      " [1 1]\n",
      " [1 1]\n",
      " [1 1]\n",
      " [1 0]\n",
      " [1 1]\n",
      " [0 0]\n",
      " [1 1]\n",
      " [0 0]\n",
      " [1 1]\n",
      " [1 1]\n",
      " [0 0]\n",
      " [1 1]\n",
      " [1 1]\n",
      " [0 0]\n",
      " [0 0]\n",
      " [1 1]\n",
      " [1 1]\n",
      " [1 1]\n",
      " [1 1]\n",
      " [0 0]\n",
      " [1 1]\n",
      " [0 0]\n",
      " [1 1]\n",
      " [1 1]\n",
      " [1 1]\n",
      " [0 0]\n",
      " [1 1]\n",
      " [0 0]\n",
      " [0 0]\n",
      " [0 0]\n",
      " [0 0]\n",
      " [0 0]\n",
      " [1 0]\n",
      " [0 0]\n",
      " [0 0]\n",
      " [0 0]\n",
      " [0 0]\n",
      " [1 1]\n",
      " [0 0]\n",
      " [1 1]\n",
      " [1 1]\n",
      " [0 0]\n",
      " [0 0]\n",
      " [0 0]\n",
      " [0 0]\n",
      " [0 0]\n",
      " [1 1]\n",
      " [1 1]\n",
      " [1 1]\n",
      " [1 1]\n",
      " [0 0]\n",
      " [0 0]]\n"
     ]
    }
   ],
   "source": [
    "y_pred = spam_detect_model.predict(X_test)\n",
    "print(np.concatenate((y_pred.reshape(len(y_pred),1), y_test.reshape(len(y_test),1)),1))"
   ]
  },
  {
   "cell_type": "code",
   "execution_count": 26,
   "metadata": {},
   "outputs": [
    {
     "name": "stdout",
     "output_type": "stream",
     "text": [
      "[[ 89   7]\n",
      " [  3 101]]\n"
     ]
    },
    {
     "data": {
      "text/plain": [
       "0.95"
      ]
     },
     "execution_count": 26,
     "metadata": {},
     "output_type": "execute_result"
    }
   ],
   "source": [
    "#Confusion Matrix\n",
    "from sklearn.metrics import confusion_matrix, accuracy_score\n",
    "cm = confusion_matrix(y_test, y_pred)\n",
    "print(cm)\n",
    "accuracy_score(y_test, y_pred)"
   ]
  },
  {
   "cell_type": "code",
   "execution_count": 29,
   "metadata": {},
   "outputs": [
    {
     "name": "stdout",
     "output_type": "stream",
     "text": [
      "              precision    recall  f1-score   support\n",
      "\n",
      "           0       0.99      0.94      0.96       500\n",
      "           1       0.94      0.99      0.96       500\n",
      "\n",
      "    accuracy                           0.96      1000\n",
      "   macro avg       0.96      0.96      0.96      1000\n",
      "weighted avg       0.96      0.96      0.96      1000\n",
      "\n"
     ]
    }
   ],
   "source": [
    "#classification report\n",
    "from sklearn.metrics import classification_report\n",
    "print (classification_report(messages['label'], all_predictions))"
   ]
  },
  {
   "cell_type": "code",
   "execution_count": 30,
   "metadata": {},
   "outputs": [],
   "source": [
    "#visualizing confusion matrix"
   ]
  },
  {
   "cell_type": "code",
   "execution_count": 32,
   "metadata": {},
   "outputs": [
    {
     "data": {
      "image/png": "[encoded data removed]",
      "text/plain": [
       "<Figure size 360x360 with 2 Axes>"
      ]
     },
     "metadata": {
      "needs_background": "light"
     },
     "output_type": "display_data"
    }
   ],
   "source": [
    "from sklearn.metrics import confusion_matrix\n",
    "import seaborn as sns\n",
    "\n",
    "nb_cm = confusion_matrix(y_test, y_pred)\n",
    "f, ax = plt.subplots(figsize=(5,5))\n",
    "sns.heatmap(nb_cm, annot=True, linewidth=0.7, linecolor='magenta', fmt='g', ax=ax, cmap=\"magma_r\")\n",
    "plt.title('Multinomial NB Matrix')\n",
    "plt.xlabel('Y predict value')\n",
    "plt.ylabel('Y test value')\n",
    "plt.show()"
   ]
  },
  {
   "cell_type": "code",
   "execution_count": 33,
   "metadata": {},
   "outputs": [],
   "source": [
    "from sklearn.metrics import precision_score\n",
    "from sklearn.metrics import recall_score"
   ]
  },
  {
   "cell_type": "code",
   "execution_count": 34,
   "metadata": {},
   "outputs": [
    {
     "name": "stdout",
     "output_type": "stream",
     "text": [
      "Accuracy: 0.95\n",
      "Precision: 0.9351851851851852\n",
      "Recall: 0.9711538461538461\n"
     ]
    }
   ],
   "source": [
    "print(\"Accuracy:\",accuracy_score(y_test, y_pred))\n",
    "print(\"Precision:\",precision_score(y_test, y_pred))\n",
    "print(\"Recall:\",recall_score(y_test, y_pred))"
   ]
  },
  {
   "cell_type": "code",
   "execution_count": 35,
   "metadata": {},
   "outputs": [
    {
     "data": {
      "image/png": "[encoded data removed]",
      "text/plain": [
       "<Figure size 432x288 with 1 Axes>"
      ]
     },
     "metadata": {
      "needs_background": "light"
     },
     "output_type": "display_data"
    }
   ],
   "source": [
    "from sklearn.metrics import roc_curve\n",
    "from sklearn.metrics import roc_auc_score\n",
    "y_pred_proba =spam_detect_model.predict_proba(X_test)[::,1]\n",
    "fpr, tpr, _ = roc_curve(y_test,  y_pred_proba)\n",
    "auc = roc_auc_score(y_test, y_pred_proba)\n",
    "plt.plot(fpr,tpr,label=\"data 1, auc=\"+str(auc))\n",
    "plt.legend(loc=4)\n",
    "plt.xlabel('fpr')\n",
    "plt.ylabel('tpr')\n",
    "plt.title('ROC Curve Multinomial NB')\n",
    "plt.grid(True)\n",
    "plt.show()"
   ]
  },
  {
   "cell_type": "code",
   "execution_count": null,
   "metadata": {},
   "outputs": [],
   "source": []
  }
 ],
 "metadata": {
  "kernelspec": {
   "display_name": "Python 3",
   "language": "python",
   "name": "python3"
  },
  "language_info": {
   "codemirror_mode": {
    "name": "ipython",
    "version": 3
   },
   "file_extension": ".py",
   "mimetype": "text/x-python",
   "name": "python",
   "nbconvert_exporter": "python",
   "pygments_lexer": "ipython3",
   "version": "3.8.3"
  }
 },
 "nbformat": 4,
 "nbformat_minor": 4
}
